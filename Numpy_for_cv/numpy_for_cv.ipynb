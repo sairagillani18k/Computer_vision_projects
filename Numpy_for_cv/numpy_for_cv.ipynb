{
 "cells": [
  {
   "cell_type": "code",
   "execution_count": 1,
   "metadata": {},
   "outputs": [
    {
     "name": "stdout",
     "output_type": "stream",
     "text": [
      "1.20.3\n"
     ]
    }
   ],
   "source": [
    "#first install the numpy pip install numpy\n",
    "#import numpy\n",
    "import numpy as np \n",
    "print(np.__version__)"
   ]
  },
  {
   "cell_type": "code",
   "execution_count": 14,
   "metadata": {},
   "outputs": [
    {
     "name": "stdout",
     "output_type": "stream",
     "text": [
      "row vector\n",
      "[1 2 3]\n",
      "col vector\n",
      "[[1]\n",
      " [2]\n",
      " [3]]\n",
      "Multidimentional array\n",
      "[[[1 2 3]\n",
      "  [4 5 6]]\n",
      "\n",
      " [[5 6 7]\n",
      "  [8 9 0]]]\n"
     ]
    }
   ],
   "source": [
    "# Row vector only contain one row\n",
    "row_arr = np.array([1,2,3])\n",
    "print(\"row vector\",row_arr , sep=\"\\n\")\n",
    "# column vector only contain one column\n",
    "col_arr = np.array([[1],\n",
    "                   [2],\n",
    "                   [3]])\n",
    "print(\"col vector\",col_arr, sep=\"\\n\")\n",
    "# Multidimenstional  array (tensor) have more then one col and row\n",
    "mult_arr = np.array([[(1,2,3),\n",
    "                     (4,5,6)],\n",
    "                     [(5,6,7),\n",
    "                     (8,9,0)]])\n",
    "print(\"Multidimentional array\",mult_arr, sep=\"\\n\")"
   ]
  },
  {
   "cell_type": "code",
   "execution_count": 31,
   "metadata": {},
   "outputs": [
    {
     "name": "stdout",
     "output_type": "stream",
     "text": [
      "[[0 0 0]\n",
      " [0 0 0]\n",
      " [0 0 0]]\n",
      "###################\n",
      "[[7 7 7 7 7]\n",
      " [7 7 7 7 7]\n",
      " [7 7 7 7 7]\n",
      " [7 7 7 7 7]\n",
      " [7 7 7 7 7]]\n",
      "#############################3\n",
      "[0 2 4 6 8]\n",
      "####################\n",
      "[0. 1. 2. 3. 4. 5. 6. 7. 8.]\n",
      "#############################\n",
      "[[0.14767428 0.91693859 0.23397463]\n",
      " [0.15969885 0.14149323 0.94380304]]\n",
      "\n",
      "[[1 1 0]\n",
      " [2 3 4]]\n"
     ]
    }
   ],
   "source": [
    "# zeros value of specific shape and dtype \n",
    "arr = np.zeros((3,3), dtype=\"int\")\n",
    "print(arr)\n",
    "# with any value\n",
    "print(\"###################\")\n",
    "arr = np.full((5,5),7)\n",
    "print(arr)\n",
    "# value if specifice range\n",
    "print(\"#############################3\")\n",
    "arr = np.arange(0,10,2)\n",
    "print(arr)\n",
    "# number of value in range\n",
    "print(\"####################\")\n",
    "arr = np.linspace(0,8,9)\n",
    "print(arr)\n",
    "# genrate random values \n",
    "print(\"#############################\")\n",
    "arr = np.random.rand(2,3)\n",
    "print(arr)\n",
    "# random in integer \n",
    "print()\n",
    "arr = np.random.randint(5,size=(2,3))\n",
    "print(arr)"
   ]
  },
  {
   "cell_type": "code",
   "execution_count": 37,
   "metadata": {},
   "outputs": [
    {
     "name": "stdout",
     "output_type": "stream",
     "text": [
      "[[ 1  2  3  4  5]\n",
      " [ 6  7  8  9 10]]\n",
      "(2, 5)\n",
      "10\n",
      "int32\n",
      "[[ 1.  2.  3.  4.  5.]\n",
      " [ 6.  7.  8.  9. 10.]]\n"
     ]
    }
   ],
   "source": [
    "# Array inspection (shape -> row,col, size -> total no.value, dtype -> type of array, astype -> typecast)\n",
    "arr = np.array([(1,2,3,4,5),(6,7,8,9,10)])\n",
    "print(arr)\n",
    "print(arr.shape)\n",
    "print(arr.size)\n",
    "print(arr.dtype)\n",
    "print(arr.astype(float))\n"
   ]
  },
  {
   "cell_type": "code",
   "execution_count": 42,
   "metadata": {},
   "outputs": [
    {
     "name": "stdout",
     "output_type": "stream",
     "text": [
      "[ 7  9 11 13 15]\n",
      "[ 6 14 24 36 50]\n",
      "[11 12 13 14 15]\n",
      "[10 20 30 40 50]\n",
      "1\n",
      "5\n"
     ]
    }
   ],
   "source": [
    "# element wise adition, multiplication, scaler adition, scaler multiplication, min, max\n",
    "arr = np.array([1,2,3,4,5])\n",
    "arr1 = np.array([6,7,8,9,10])\n",
    "print(arr+arr1)\n",
    "print(arr*arr1)\n",
    "print(arr+10)\n",
    "print(arr*10)\n",
    "print(arr.min())\n",
    "print(arr.max())"
   ]
  },
  {
   "cell_type": "code",
   "execution_count": 63,
   "metadata": {},
   "outputs": [
    {
     "name": "stdout",
     "output_type": "stream",
     "text": [
      "4\n",
      "[2 3]\n",
      "[5 4 3 2 1]\n",
      "#################################3#\n",
      "5\n",
      "5\n",
      "[2 3]\n",
      "######################################\n",
      "[[[ 1  2  3  4  5]\n",
      "  [ 4  5  6  7  8]]\n",
      "\n",
      " [[11 22 33 44 55]\n",
      "  [66 77 88 99 10]]]\n",
      "##############\n",
      "99\n",
      "[77 88 99]\n",
      "[[[ 1  5]\n",
      "  [ 4  8]]\n",
      "\n",
      " [[11 55]\n",
      "  [66 10]]]\n"
     ]
    }
   ],
   "source": [
    "# indexing and slicing\n",
    "# in 1-D\n",
    "arr = np.array([1,2,3,4,5])\n",
    "print(arr[3])\n",
    "#slice\n",
    "print(arr[1:3])\n",
    "#reverse \n",
    "print(arr[::-1])\n",
    "print(\"#################################3#\")\n",
    "# in 2-D\n",
    "arr = np.array([(1,2,3,4),\n",
    "                 (2,3,4,5)])\n",
    "print(arr[1][3])\n",
    "# also by this\n",
    "print(arr[1,3])\n",
    "#slice\n",
    "print(arr[1,0:2])\n",
    "print(\"######################################\")\n",
    "arr = np.array([[(1,2,3,4,5),\n",
    "                (4,5,6,7,8)],\n",
    "                \n",
    "                [(11,22,33,44,55),\n",
    "                 (66,77,88,99,10)]])\n",
    "print(arr)\n",
    "print(\"##############\")\n",
    "# arr[matrix][row][col]\n",
    "print(arr[1][1][3])\n",
    "#slice\n",
    "print(arr[1,1,1:4])\n",
    "# only corner point\n",
    "print(arr[:,:,0::4])\n"
   ]
  },
  {
   "cell_type": "code",
   "execution_count": 80,
   "metadata": {},
   "outputs": [
    {
     "name": "stdout",
     "output_type": "stream",
     "text": [
      "[[ 1  2  3  4  5  6]\n",
      " [ 6  7  8  9 10 11]]\n",
      "##################33\n",
      "[[ 1  2  3]\n",
      " [ 4  5  6]\n",
      " [ 6  7  8]\n",
      " [ 9 10 11]]\n",
      "#################################\n",
      "[ 1  2  3  4  5  6  6  7  8  9 10 11]\n",
      "##########\n",
      "[[ 1  2  3  4  5  6]\n",
      " [ 6  7  8  9 10 11]\n",
      " [ 7  8  9 10 11 12]\n",
      " [ 2  3  3  4  5  6]]\n",
      "###########################################################################333\n",
      "[[ 1  6]\n",
      " [ 2  7]\n",
      " [ 3  8]\n",
      " [ 4  9]\n",
      " [ 5 10]\n",
      " [ 6 11]]\n",
      "###################\n",
      "[[ 1  2  3  4  5  6]\n",
      " [ 6  7  8  9 10 11]]\n"
     ]
    }
   ],
   "source": [
    "#reshape\n",
    "arr1 = np.array([(1,2,3,4,5,6),(6,7,8,9,10,11)])\n",
    "print(arr1)\n",
    "print(\"##################33\")\n",
    "print(arr1.reshape(4,3))\n",
    "print(\"#################################\")\n",
    "#flatten make row vector\n",
    "print(arr1.ravel())\n",
    "print(\"##########\")\n",
    "# concatenate\n",
    "arr = np.array([(7,8,9,10,11,12),(2,3,3,4,5,6)])\n",
    "print(np.concatenate((arr1,arr)))\n",
    "print(\"###########################################################################333\")\n",
    "# transpose row into colume or vice versa\n",
    "print(arr1.transpose())\n",
    "print(\"###################\")\n",
    "#copy\n",
    "arr2 = np.copy(arr1)\n",
    "print(arr2)"
   ]
  },
  {
   "cell_type": "code",
   "execution_count": 86,
   "metadata": {},
   "outputs": [
    {
     "data": {
      "text/plain": [
       "True"
      ]
     },
     "execution_count": 86,
     "metadata": {},
     "output_type": "execute_result"
    }
   ],
   "source": [
    "import cv2\n",
    "# ceate gray scale image using numpy\n",
    "image = np.zeros((500,500))\n",
    "image[:,:] = 100\n",
    "image = image[:,:] + 10\n",
    "image[100:200,200:300] = 255\n",
    "cv2.imwrite(\"smape.png\",image)"
   ]
  },
  {
   "cell_type": "code",
   "execution_count": 88,
   "metadata": {},
   "outputs": [
    {
     "data": {
      "text/plain": [
       "255.0"
      ]
     },
     "execution_count": 88,
     "metadata": {},
     "output_type": "execute_result"
    }
   ],
   "source": [
    "image[100,200]"
   ]
  },
  {
   "cell_type": "code",
   "execution_count": null,
   "metadata": {},
   "outputs": [],
   "source": []
  }
 ],
 "metadata": {
  "kernelspec": {
   "display_name": "base",
   "language": "python",
   "name": "python3"
  },
  "language_info": {
   "codemirror_mode": {
    "name": "ipython",
    "version": 3
   },
   "file_extension": ".py",
   "mimetype": "text/x-python",
   "name": "python",
   "nbconvert_exporter": "python",
   "pygments_lexer": "ipython3",
   "version": "3.9.7"
  },
  "orig_nbformat": 4
 },
 "nbformat": 4,
 "nbformat_minor": 2
}
